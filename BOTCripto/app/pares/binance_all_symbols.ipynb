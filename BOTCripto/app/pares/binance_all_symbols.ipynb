{
 "cells": [
  {
   "cell_type": "code",
   "execution_count": 7,
   "metadata": {},
   "outputs": [
    {
     "name": "stdout",
     "output_type": "stream",
     "text": [
      "[{\"Exchenge\":\"Binance\",\"Baseendpoint\":\"https:\\/\\/api.binance.com\",\"endpoint\":\"\\/api\\/v3\\/exchangeInfo\",\"utilidade\":\"Informa\\u00e7\\u00e3o de pares cripto\"},{\"Exchenge\":\"Binance\",\"Baseendpoint\":\"https:\\/\\/api.binance.com\",\"endpoint\":\"\\/api\\/v3\\/ticker\\/bookTicker\",\"utilidade\":\"Tickers\"}]\n"
     ]
    }
   ],
   "source": [
    "import pandas as pd\n",
    "import json\n",
    "\n",
    "# Caminho do arquivo\n",
    "\n",
    "file_path =\"c:/Users/juciv/OneDrive/Documents/endpoints.csv\"\n",
    "# Ler o arquivo CSV\n",
    "df = pd.read_csv(file_path, sep=';', encoding='ISO-8859-1')\n",
    "\n",
    "# Converter o DataFrame para JSON\n",
    "json_data = df.to_json(orient='records')\n",
    "\n",
    "# Imprimir os dados em formato JSON\n",
    "print(json_data)"
   ]
  }
 ],
 "metadata": {
  "kernelspec": {
   "display_name": "embaixadores_diope",
   "language": "python",
   "name": "python3"
  },
  "language_info": {
   "codemirror_mode": {
    "name": "ipython",
    "version": 3
   },
   "file_extension": ".py",
   "mimetype": "text/x-python",
   "name": "python",
   "nbconvert_exporter": "python",
   "pygments_lexer": "ipython3",
   "version": "3.10.11"
  }
 },
 "nbformat": 4,
 "nbformat_minor": 2
}
