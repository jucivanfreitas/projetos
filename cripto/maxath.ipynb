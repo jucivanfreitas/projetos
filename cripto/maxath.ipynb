{
 "cells": [
  {
   "cell_type": "code",
   "execution_count": 1,
   "metadata": {},
   "outputs": [],
   "source": []
  },
  {
   "cell_type": "code",
   "execution_count": 18,
   "metadata": {},
   "outputs": [],
   "source": [
    "import requests\n",
    "from bs4 import BeautifulSoup\n",
    "import csv\n",
    "\n",
    "# URL da página\n",
    "url = \"https://www.bitget.com/pt/price/crypto-all-time-high\"\n"
   ]
  },
  {
   "cell_type": "code",
   "execution_count": 20,
   "metadata": {},
   "outputs": [
    {
     "name": "stdout",
     "output_type": "stream",
     "text": [
      "Falha na solicitação HTTP. Status code: 403\n"
     ]
    }
   ],
   "source": [
    "\n",
    "\n",
    "# Adicionando um cabeçalho User-Agent à solicitação\n",
    "headers = {\n",
    "    'User-Agent': 'Mozilla/5.0 (Windows NT 10.0; Win64; x64) AppleWebKit/537.36 (KHTML, like Gecko) Chrome/58.0.3029.110 Safari/537.3'}\n",
    "\n",
    "# Solicitação HTTP para obter o conteúdo da página\n",
    "response = requests.get(url, headers=headers)\n",
    "\n",
    "# Verifica se a solicitação foi bem-sucedida (código 200)\n",
    "if response.status_code == 200:\n",
    "    # Parsing do HTML da página usando BeautifulSoup\n",
    "    soup = BeautifulSoup(response.text, 'html.parser')\n",
    "\n",
    "    # Seletor CSS da tabela fornecida\n",
    "    css_selector = \"#__next > div > main > div.pb-30px.box-content > div > div > div > div:nth-child(4)\"\n",
    "\n",
    "    # Localiza a tabela usando o seletor CSS\n",
    "    table = soup.select_one(css_selector)\n",
    "\n",
    "    # Verifica se a tabela foi encontrada\n",
    "    if table:\n",
    "        # Extrai os dados da tabela e salva em um arquivo CSV\n",
    "        with open('maxima_historica.csv', 'w', newline='', encoding='utf-8') as csvfile:\n",
    "            csv_writer = csv.writer(csvfile)\n",
    "\n",
    "            # Extrai cabeçalhos da tabela\n",
    "            headers = [header.text.strip() for header in table.find_all('th')]\n",
    "            csv_writer.writerow(headers)\n",
    "\n",
    "            # Extrai linhas da tabela\n",
    "            rows = table.find_all('tr')\n",
    "            for row in rows:\n",
    "                # Extrai dados das células em cada linha\n",
    "                data = [cell.text.strip() for cell in row.find_all(['td', 'th'])]\n",
    "                csv_writer.writerow(data)\n",
    "\n",
    "        print(\"Os dados foram extraídos com sucesso e salvos em maxima_historica.csv.\")\n",
    "    else:\n",
    "        print(\"A tabela não foi encontrada. Verifique o seletor CSS fornecido.\")\n",
    "else:\n",
    "    print(\"Falha na solicitação HTTP. Status code:\", response.status_code)\n"
   ]
  },
  {
   "cell_type": "code",
   "execution_count": 15,
   "metadata": {},
   "outputs": [
    {
     "data": {
      "text/plain": [
       "<!DOCTYPE html>\n",
       "<html lang=\"en-US\"><head><title>Just a moment...</title><meta content=\"text/html; charset=utf-8\" http-equiv=\"Content-Type\"/><meta content=\"IE=Edge\" http-equiv=\"X-UA-Compatible\"/><meta content=\"noindex,nofollow\" name=\"robots\"/><meta content=\"width=device-width,initial-scale=1\" name=\"viewport\"/><link href=\"/cdn-cgi/styles/challenges.css\" rel=\"stylesheet\"/><meta content=\"105\" http-equiv=\"refresh\"/></head><body class=\"no-js\"><div class=\"main-wrapper\" role=\"main\"><div class=\"main-content\"><noscript><div id=\"challenge-error-title\"><div class=\"h2\"><span class=\"icon-wrapper\"><div class=\"heading-icon warning-icon\"></div></span><span id=\"challenge-error-text\">Enable JavaScript and cookies to continue</span></div></div></noscript></div></div><script>(function(){window._cf_chl_opt={cvId: '2',cZone: \"www.bitget.com\",cType: 'non-interactive',cNounce: '34143',cRay: '83307996295962b3',cHash: '68968133a1b12fc',cUPMDTk: \"\\/pt\\/price\\/crypto-all-time-high?__cf_chl_tk=fBGnczGmTnYamwOxx_S4LmbJBoLmQwDbsdMM06djER0-1702158744-0-gaNycGzNCeU\",cFPWv: 'b',cTTimeMs: '1000',cMTimeMs: '105000',cTplV: 5,cTplB: 'cf',cK: \"visitor-time\",fa: \"\\/pt\\/price\\/crypto-all-time-high?__cf_chl_f_tk=fBGnczGmTnYamwOxx_S4LmbJBoLmQwDbsdMM06djER0-1702158744-0-gaNycGzNCeU\",md: \"aa.XHnPOUhRBCnCkHy1.x9MKe7wu2lx3pI1gggZ.gvw-1702158744-1-ASQkdFxeIJinMhO_WHTViqh4EPJZMxSt12EYc9m9smsz3UC7q9lDToQ-gv51l0aGE7HvyXLjo6xT-XNy2ZRy1cNtcZ3A1E3rZZbkOtcmgC_QCRX_zgFQ6xvGbusLbXCpzKOvXUSwZrFCJreL-UlihmQ2uk8slV8eioDyFBnX2uL1KnMTVDmW52LxuHspURpOrxg2bWCJqUdRYMbVywqZ53nTNEX-wsqOU8Zk_NcQRuSWAdS2goYMdGD2yGtvkQsVHGLe4EtowYHPSgv58tdmZozNXr-A0WSUwFNkA56JODdOV3hZofH_HjqrJZbOL_0i5Pgs0DNAZF9Qwro3Q6DsQPQYSY5pynAglZ3q2PO5FcskQpNfyKKw9RPQl4zT9-C-F0iVCj95ZvJhxz91YtIBZR-YeG8yP1toFzo9JE8IR-7pG2xb8khIfe9vXKXu97zOfscLD1Ugllj5i2oCj0Npi-FzeicM7XtKFRbj9i8gu5kyQFt0MHBiMLc9YI_WAXvAauj9m6q2q_vg-EJ13FioSNbHsjQkhVRivgrrBZNuShAfqSOlVnRw9nTuepbTKJfHcvj-krUr8_MHdoQ4_INZov1eu_XBEKhFWWXVKMlDMGdXfE4723PGCPuNTA_JR8NLzoS5gnWLwXxqioZhad8AQv09cRpaFNbJmYYCu_8dCu3kd7cFfPYTr0e6OKiGZsGQW-RDe4V_QsfDMX3VaNfXf41pDXTtX2zBetlAZ9guplTiEKKiKv4w5RYxhfwDO-UlQcOJsq_G4bhfx1tB5Eu43nuqrgZC0XeBPvU20NYNLQ6rJvREZiKuGjEdKUS0jC3Jz_Io_u4uebaGYwhFcHa2j_OFQG3LPuUBNLq9-j8rn35e1o_v8QoLtcAHrTVevOzoNS-d6W4SF1l2IHEWo8B7WHjr53PXPozzFJ1JGEi9IcnJKscDv4VoDPWKt4LNrMm-t4Q-GdEA0ug4b-XVtpQg7Porf5RxKtmU4o57NdRqWWrSlyCW0AuLlFOXiP-eTXNHaPoO1C7I_Q1ixmSJ7Aw3EfFVJisyfFqKVfHKYjhp44L84Nt6G0pmVWBBapb9ogW-isHAZ-I-xdbpMkD30Wx0uJ7Sza-NyU4sbg-CqHlyb5OcJrpIw7IExSapeIcqK4BA4mPNQR04ziEs4fO7e3hCRpEYKC2N8qa6K8RShKM4KoTmdv0iN3iQXD41ErkMDP3zyiFSJw19QhkQTWtMk9QEkZ88e6drm_KVz07sl5sdh4lxgYkduzO-orDovUPXMoYMipXESNcYwxKxEUz_bJgh4EIcLsMqGFwTM0YdQNQTDeNEr0Oar3KNfNLnJvxKIwSCL3gqCz1-6rwyp212T8n3WzRWtuz5JXucDfqzz4ttIlmC7zQ0kqg4FmGdnChqIV47iCy4XDw-WXMT4ZeQT4ScMq4ThkxUzBHtp5gLurFxKTgYtNNb9lsaqav18Im62DM4Tw3zzmvPh-vekx9v7x99WVetYZD67zUJ5TpxtyQC-LxU2u0fIY6f38kSQNee58kWzpXNDsVi4PcAG9gv843HDw5jCcIOyM8P7eGaQDByyYoZ_51V7fytILcONvSXQlt5phnPYHze_NBr_iZnsWYcsoHDXfJ73y-TI4V0mIdNq4GnRZbmlVsUooUKt25-SSRLqBE7IBgXF2PTpqCIXuOD010cxfwgzLUbtmCD8UhRZfVA7QvSeUqCVOtLB_pLoBiMHEabaRi3lGwj9gQtDJDDY5U97gKxSXodu7uSE5h46wg4j4lR1wS4RHGKEpstUqi4vrQCowNHuayrXM9Tg4XsTB1ayS5ADtzobLfiF5YNcD7a-YpLuqEyBO65GOip4Eq7AGnUMdeVJmi0flAaY0aZsu9oTfB89b_ZZKd6yQHdaV0lZbHFaqwtDMaGntTz8rjWGEEaKpstNfgMT4j658Qym4xAsswW7cKLXDOBDTwnJLWCwUI_KelAK9tlFRc3gavfOK4jZQHn0GYVL_JkW66z6AqUE2LZ0MBK9XjwiujtWjLUj-gMrofCW-Jka_iQ26bbdGFpHJPcum6WXhcuUWTtEpWsvV1DSLHH8uGvNtwrnfCW7PUwbmAsjmP5NxtZIJbWYO4hlCoOBb26GFLtiTBDQIqIw9tlfl-xSh1gKywgcmhTcDPGSx-afj_ufzA28Zv4irn2CJZN0d4fYQi97p1sKdGbd9qhatWOvQ0x8XTwVDCgpn_8DGibLMFxqpUkQNeEsdev3NzIv922xYktlX2TbcgEBs04fww4a_dmwojYZhopWY6_8zmMz8ifMOAwNKC4Kuev2BdwUWzlDyMzUYv5qTgRqp8ZePCXCyyQX5pqTV98cP5CPhmdl0zgBnM_MVfrOTTQBuOkGD0f9UbgOL6xziuZu4mdZQMlSRep4KHlorru9MQruxUvvwTC9dSVRSK7YmM4neqLBeTj8JXVVMxD9bllpoLOMV1-sL6OE_4Gj9VK\",cRq: {ru: 'aHR0cHM6Ly93d3cuYml0Z2V0LmNvbS9wdC9wcmljZS9jcnlwdG8tYWxsLXRpbWUtaGlnaA==',ra: 'cHl0aG9uLXJlcXVlc3RzLzIuMzEuMA==',rm: 'R0VU',d: '+aruBp5HCaCVWsSK6gGhUTvgoPc1K6++usZJ7hHU0zMRaQWkbCOQWlLWlr+tA/S23lcLsHdRfh4osmY7/cE1NOO2iTNfGHgARn2y4QHWpKgURZtQHWk3y/DzrE4xJLS7bVF3/hSSWfjI/CLtPDuHvwytBTZw7HCPzuuGzDRioDJltFdqhWw2Sq7FwAK7u4GwgDJ17EtssiGVApO2uwGcIk2ubkPYc30B766JI8eGT3omuek1xSwmm1d4fKOrInk9hS9vOTRq1qHRG0WfGGHabLgRlEzBSwtPwbxaARE95JH6+wL05kD5Y+mUWd4R5pieUhLAXPXGRdO/T+3GKPm2Z3TFKZtNdaaRi95JhTEPdsRIuj2//Xlu9rtGlvGxlLGqTh2hryyij1PFGw4tT07z+hF9yVI4mcsiUulzPv6tl4g7jeeFT3hDo1znp6RPR5PTT37XzIrUBBz3P9fa0HqiJwkXuskckSyHO1FAYiK9VXL1Cv6JFUt4MMiBNVXiCn4yAHjP1QFExEIxtd8SNHJskKbp8wrf4Y7ubd1cjHvL7nh+erUQzvx3Pie1Ieh4L6NFPCBs0y0aFOwfnNDchg/SZEKBFprwuJg3LxNNjJhSAHM=',t: 'MTcwMjE1ODc0NC4wNTEwMDA=',cT: Math.floor(Date.now() / 1000),m: 'XlHhk9RLBJKwOkl1voGLCjClpRupClprjM68eOZqMVU=',i1: 'jGNChpKza0MQKyzzgEsf0Q==',i2: 'kMeddfVbVY5o0mZuSDdVWg==',zh: 'dZ502qZXBAc91+KMTOVM8nUYeVjorEumzVQ5xGA/OEI=',uh: 'YE9XOpG5TeHmhA1zfs5mxC8CrRZzq2a/+r+OU7dliYQ=',hh: 'MAEBljByb9IyvpOByBJG+simmaWVM7Wd5luY8XdM6H0=',}};var cpo = document.createElement('script');cpo.src = '/cdn-cgi/challenge-platform/h/b/orchestrate/chl_page/v1?ray=83307996295962b3';window._cf_chl_opt.cOgUHash = location.hash === '' && location.href.indexOf('#') !== -1 ? '#' : location.hash;window._cf_chl_opt.cOgUQuery = location.search === '' && location.href.slice(0, location.href.length - window._cf_chl_opt.cOgUHash.length).indexOf('?') !== -1 ? '?' : location.search;if (window.history && window.history.replaceState) {var ogU = location.pathname + window._cf_chl_opt.cOgUQuery + window._cf_chl_opt.cOgUHash;history.replaceState(null, null, \"\\/pt\\/price\\/crypto-all-time-high?__cf_chl_rt_tk=fBGnczGmTnYamwOxx_S4LmbJBoLmQwDbsdMM06djER0-1702158744-0-gaNycGzNCeU\" + window._cf_chl_opt.cOgUHash);cpo.onload = function() {history.replaceState(null, null, ogU);}}document.getElementsByTagName('head')[0].appendChild(cpo);}());</script></body></html>"
      ]
     },
     "execution_count": 15,
     "metadata": {},
     "output_type": "execute_result"
    }
   ],
   "source": [
    "soup\n"
   ]
  },
  {
   "cell_type": "code",
   "execution_count": 21,
   "metadata": {},
   "outputs": [
    {
     "name": "stdout",
     "output_type": "stream",
     "text": [
      "{'status': {'timestamp': '2023-12-09T22:27:48.931Z', 'error_code': 0, 'error_message': None, 'elapsed': 1, 'credit_count': 1, 'notice': None}, 'data': [{'id': 6397, 'name': '23ct31uinzc', 'symbol': 'sbqo28w7u3', 'slug': '87pvnq3nglu', 'cmc_rank': 2690, 'num_market_pairs': 8526, 'circulating_supply': 8700, 'total_supply': 4358, 'max_supply': 5897, 'infinite_supply': None, 'last_updated': '2023-12-09T22:27:48.931Z', 'date_added': '2023-12-09T22:27:48.931Z', 'tags': ['ekkfhz8yqz', 'jybbh7b4wrg', 'scxjyblacxm', 'jqbpnq2q8x', '9ljq3jmsxo5', 'lfh0cginb4a', 'z84wi0u4usj', '8td5z3gky6j', 'pqiasl10sq', 'a5jcgtzrfwv'], 'platform': None, 'self_reported_circulating_supply': None, 'self_reported_market_cap': None, 'quote': {'USD': {'price': 0.8240359042603891, 'volume_24h': 8264, 'volume_change_24h': 0.8355196511874814, 'percent_change_1h': 0.7427483463274829, 'percent_change_24h': 0.395388729390753, 'percent_change_7d': 0.9146961202879467, 'market_cap': 0.4806129876969871, 'market_cap_dominance': 9211, 'fully_diluted_market_cap': 0.8253287391504482, 'last_updated': '2023-12-09T22:27:48.931Z'}}}, {'id': 8758, 'name': 'fxszqhft3w9', 'symbol': 'v96bd23zd2e', 'slug': '5mhqhv4913e', 'cmc_rank': 6402, 'num_market_pairs': 5539, 'circulating_supply': 708, 'total_supply': 418, 'max_supply': 1748, 'infinite_supply': None, 'last_updated': '2023-12-09T22:27:48.931Z', 'date_added': '2023-12-09T22:27:48.931Z', 'tags': ['g51ut0aldc', 'prlb9ppufa', 'mreut6yhjk', 'ip7ja33wx19', 'nrqu6debwcm', '1svkuwxhohi', 'uctoi23nuds', 'tqufw45bohe', 'ho6pmknqhe8', 'dmc4p8ozi7t'], 'platform': None, 'self_reported_circulating_supply': None, 'self_reported_market_cap': None, 'quote': {'USD': {'price': 0.9277579714259201, 'volume_24h': 1840, 'volume_change_24h': 0.4788881205257849, 'percent_change_1h': 0.745392193725303, 'percent_change_24h': 0.6048107587829326, 'percent_change_7d': 0.8310757804567193, 'market_cap': 0.3315950757656503, 'market_cap_dominance': 7189, 'fully_diluted_market_cap': 0.06932914131921475, 'last_updated': '2023-12-09T22:27:48.931Z'}}}, {'id': 9611, 'name': 'k51b6z1dnwd', 'symbol': 'ww26ad46svl', 'slug': 'fxi5ixkz9fm', 'cmc_rank': 6235, 'num_market_pairs': 6348, 'circulating_supply': 1767, 'total_supply': 4230, 'max_supply': 8232, 'infinite_supply': None, 'last_updated': '2023-12-09T22:27:48.931Z', 'date_added': '2023-12-09T22:27:48.931Z', 'tags': ['udf9rrl6sxs', 'ojglbb0izlh', 'aiodkaavblp', 'xpbocyhuh4k', 'qn9deae6x8m', 'kqivytzyv7', 'mnnwshiak3m', 'pichoggdhc', 'mioqcf8zgtf', 'ubeivydgp'], 'platform': None, 'self_reported_circulating_supply': None, 'self_reported_market_cap': None, 'quote': {'USD': {'price': 0.15453843037660153, 'volume_24h': 4252, 'volume_change_24h': 0.28342008769351534, 'percent_change_1h': 0.13477433046745824, 'percent_change_24h': 0.8910177415657621, 'percent_change_7d': 0.1586738741163296, 'market_cap': 0.9590118196916746, 'market_cap_dominance': 6812, 'fully_diluted_market_cap': 0.219344423972043, 'last_updated': '2023-12-09T22:27:48.931Z'}}}, {'id': 2024, 'name': 'aqf8ybuaisp', 'symbol': 'g1h5bo2cfc', 'slug': 'xag3da45wj', 'cmc_rank': 2769, 'num_market_pairs': 6378, 'circulating_supply': 5113, 'total_supply': 2192, 'max_supply': 890, 'infinite_supply': None, 'last_updated': '2023-12-09T22:27:48.931Z', 'date_added': '2023-12-09T22:27:48.931Z', 'tags': ['bmye759votn', 'bdq62zqv7ks', 'zgme2mn87r', 'm3u6jdzl6us', 'gjiw40qllvk', 'pd744aw288i', 'b2drfsmrazq', 'gv110rigcro', '1kt5ohcwkfn', 'ul3z1xa8du'], 'platform': None, 'self_reported_circulating_supply': None, 'self_reported_market_cap': None, 'quote': {'USD': {'price': 0.267339299796997, 'volume_24h': 1016, 'volume_change_24h': 0.9270261168202045, 'percent_change_1h': 0.7558106436321137, 'percent_change_24h': 0.21471573172824132, 'percent_change_7d': 0.5133934565363452, 'market_cap': 0.654183038922469, 'market_cap_dominance': 6585, 'fully_diluted_market_cap': 0.511370843747798, 'last_updated': '2023-12-09T22:27:48.931Z'}}}, {'id': 2495, 'name': '7afvdjv1jx3', 'symbol': 'bmju2y0r0q', 'slug': 'd82squp0rw', 'cmc_rank': 633, 'num_market_pairs': 4681, 'circulating_supply': 6990, 'total_supply': 5036, 'max_supply': 7938, 'infinite_supply': None, 'last_updated': '2023-12-09T22:27:48.931Z', 'date_added': '2023-12-09T22:27:48.931Z', 'tags': ['bxnro5dyvs', '8purhvs4itr', 'mk13xbr7f3', '9pe0a4fsbk5', 'o13utamrhqg', 'p3r7pvfv6dk', 'tbuapkxuwe', 'skf8094zdn', 'jt4jijkqpi', 'xwx7ee260q'], 'platform': None, 'self_reported_circulating_supply': None, 'self_reported_market_cap': None, 'quote': {'USD': {'price': 0.42123247223920157, 'volume_24h': 4633, 'volume_change_24h': 0.6925248708591032, 'percent_change_1h': 0.6362621063441305, 'percent_change_24h': 0.1713308358867074, 'percent_change_7d': 0.8695457389777381, 'market_cap': 0.24998745821640855, 'market_cap_dominance': 6916, 'fully_diluted_market_cap': 0.9515007126064077, 'last_updated': '2023-12-09T22:27:48.931Z'}}}, {'id': 6547, 'name': 'ztdqbpof2ih', 'symbol': '0lq58b725ayh', 'slug': '21p1ppkoz0x', 'cmc_rank': 5787, 'num_market_pairs': 8811, 'circulating_supply': 100, 'total_supply': 2628, 'max_supply': 8041, 'infinite_supply': None, 'last_updated': '2023-12-09T22:27:48.931Z', 'date_added': '2023-12-09T22:27:48.931Z', 'tags': ['chlmrfd8p8s', 'xdkcuttq9x9', 'zbaly5tmbn', 'snx55seqke', 'm0s9yz9sb5e', '0jn7kxj5tlzg', 'nmfj56jihib', 'aargqmynctp', '393253lkrxo', 'd0kt4w1fwz'], 'platform': None, 'self_reported_circulating_supply': None, 'self_reported_market_cap': None, 'quote': {'USD': {'price': 0.7152351125664593, 'volume_24h': 5697, 'volume_change_24h': 0.646784724375076, 'percent_change_1h': 0.9084783628723034, 'percent_change_24h': 0.9314139650389652, 'percent_change_7d': 0.6290094442191287, 'market_cap': 0.23239463010753125, 'market_cap_dominance': 8169, 'fully_diluted_market_cap': 0.4535578034126384, 'last_updated': '2023-12-09T22:27:48.931Z'}}}, {'id': 3380, 'name': 'y1nrky6t4n', 'symbol': 'tbivdpv09jj', 'slug': '9hyl4orvkzd', 'cmc_rank': 3041, 'num_market_pairs': 1985, 'circulating_supply': 76, 'total_supply': 2989, 'max_supply': 8048, 'infinite_supply': None, 'last_updated': '2023-12-09T22:27:48.931Z', 'date_added': '2023-12-09T22:27:48.931Z', 'tags': ['iu2ld2gg6f', 'rxkn6onl64h', 'v62pw6fnuco', 'p6geiu4d0mk', '0oe5c7ipu1n9', 'fxpod90l69', 'nknoo6bqq89', '3mlth0dn6p', 'nkzflrkra5h', 'v5kiib3nvz'], 'platform': None, 'self_reported_circulating_supply': None, 'self_reported_market_cap': None, 'quote': {'USD': {'price': 0.2384703490905431, 'volume_24h': 5764, 'volume_change_24h': 0.21627552516371074, 'percent_change_1h': 0.5554050406845612, 'percent_change_24h': 0.3675303344588783, 'percent_change_7d': 0.5350991900874869, 'market_cap': 0.41535565105528827, 'market_cap_dominance': 6679, 'fully_diluted_market_cap': 0.44300409488534553, 'last_updated': '2023-12-09T22:27:48.931Z'}}}, {'id': 3519, 'name': 'jmrd2d23h5h', 'symbol': 'yris0jcttw', 'slug': 'g11o3fq8ohv', 'cmc_rank': 8608, 'num_market_pairs': 4612, 'circulating_supply': 8772, 'total_supply': 5079, 'max_supply': 2968, 'infinite_supply': None, 'last_updated': '2023-12-09T22:27:48.931Z', 'date_added': '2023-12-09T22:27:48.931Z', 'tags': ['gjuhihbp3cw', '1yiyj4d7nfi', 'bh46anl8a24', '159mzkkwbb9i', 'e4b7glyd4g6', '0rri9kf75vip', 'vpwsgp8mlen', 'xcmrt10n64g', 't83z1vrfq2j', 'q6tj9lov4nh'], 'platform': None, 'self_reported_circulating_supply': None, 'self_reported_market_cap': None, 'quote': {'USD': {'price': 0.20039668988187653, 'volume_24h': 6967, 'volume_change_24h': 0.6133327614876576, 'percent_change_1h': 0.5618742259835763, 'percent_change_24h': 0.6858310388762112, 'percent_change_7d': 0.37626913194138956, 'market_cap': 0.692713081175391, 'market_cap_dominance': 5826, 'fully_diluted_market_cap': 0.7860301645982708, 'last_updated': '2023-12-09T22:27:48.931Z'}}}, {'id': 7456, 'name': 'h9l9nhox524', 'symbol': '6vlqiqupevf', 'slug': 'wyf5cm1ew9', 'cmc_rank': 9208, 'num_market_pairs': 9633, 'circulating_supply': 3385, 'total_supply': 6577, 'max_supply': 5688, 'infinite_supply': None, 'last_updated': '2023-12-09T22:27:48.931Z', 'date_added': '2023-12-09T22:27:48.931Z', 'tags': ['ag766w63r8u', 'c69a4h15ral', 'c5ypfxmyasi', 'n5j8j298y2', 'wh3t4qayt9', 'f7nvyz87t4h', 'i9m7grw6hva', '17lux5nwbunh', 'igay8ngpall', 'jlqc6sd2vp'], 'platform': None, 'self_reported_circulating_supply': None, 'self_reported_market_cap': None, 'quote': {'USD': {'price': 0.2505053619356412, 'volume_24h': 6780, 'volume_change_24h': 0.09936165290927512, 'percent_change_1h': 0.9256395511545314, 'percent_change_24h': 0.8688158001527453, 'percent_change_7d': 0.3692808654544226, 'market_cap': 0.5936743128564554, 'market_cap_dominance': 7785, 'fully_diluted_market_cap': 0.31321036844551275, 'last_updated': '2023-12-09T22:27:48.931Z'}}}, {'id': 5745, 'name': 'ckf89onzshf', 'symbol': 'tjfl2hhi6re', 'slug': 'xaqv8hyg7h', 'cmc_rank': 6600, 'num_market_pairs': 3462, 'circulating_supply': 4569, 'total_supply': 8830, 'max_supply': 5287, 'infinite_supply': None, 'last_updated': '2023-12-09T22:27:48.931Z', 'date_added': '2023-12-09T22:27:48.931Z', 'tags': ['utpuusm9b3', '0z35rcbkmvua', '7yreqvip5tm', 'q5vthcbei4', 'y1jni4bpa4d', '08v17m87lpz3', '3jjr0wcsi41', 'rjb1zqtt75', '90zmyuii2ce', 'tg8eu69ea9j'], 'platform': None, 'self_reported_circulating_supply': None, 'self_reported_market_cap': None, 'quote': {'USD': {'price': 0.19830782879535236, 'volume_24h': 6381, 'volume_change_24h': 0.06261056736023907, 'percent_change_1h': 0.08270855547949463, 'percent_change_24h': 0.1080299758114398, 'percent_change_7d': 0.1829440744455897, 'market_cap': 0.21103120011054544, 'market_cap_dominance': 3537, 'fully_diluted_market_cap': 0.17612794116615982, 'last_updated': '2023-12-09T22:27:48.931Z'}}}]}\n"
     ]
    }
   ],
   "source": [
    " #This example uses Python 2.7 and the python-request library.\n",
    "\n",
    "from requests import Request, Session\n",
    "from requests.exceptions import ConnectionError, Timeout, TooManyRedirects\n",
    "import json\n",
    "\n",
    "url = 'https://sandbox-api.coinmarketcap.com/v1/cryptocurrency/listings/latest'\n",
    "parameters = {\n",
    "  'start':'1',\n",
    "  'limit':'5000',\n",
    "  'convert':'USD'\n",
    "}\n",
    "headers = {\n",
    "  'Accepts': 'application/json',\n",
    "  'X-CMC_PRO_API_KEY': 'b54bcf4d-1bca-4e8e-9a24-22ff2c3d462c',\n",
    "}\n",
    "\n",
    "session = Session()\n",
    "session.headers.update(headers)\n",
    "\n",
    "try:\n",
    "  response = session.get(url, params=parameters)\n",
    "  data = json.loads(response.text)\n",
    "  print(data)\n",
    "except (ConnectionError, Timeout, TooManyRedirects) as e:\n",
    "  print(e)\n"
   ]
  }
 ],
 "metadata": {
  "kernelspec": {
   "display_name": "Python 3",
   "language": "python",
   "name": "python3"
  },
  "language_info": {
   "codemirror_mode": {
    "name": "ipython",
    "version": 3
   },
   "file_extension": ".py",
   "mimetype": "text/x-python",
   "name": "python",
   "nbconvert_exporter": "python",
   "pygments_lexer": "ipython3",
   "version": "3.10.11"
  }
 },
 "nbformat": 4,
 "nbformat_minor": 2
}
