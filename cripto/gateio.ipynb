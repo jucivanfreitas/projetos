{
 "cells": [
  {
   "cell_type": "markdown",
   "metadata": {},
   "source": [
    "## Baixar informações sobre Withdraw GateIo \n",
    "https://www.gate.io/pt/api2#trade"
   ]
  },
  {
   "cell_type": "code",
   "execution_count": 2,
   "metadata": {},
   "outputs": [],
   "source": [
    "import requests\n",
    "import time\n",
    "import hashlib\n",
    "import hmac\n",
    "\n",
    "# Substitua essas informações com suas credenciais\n",
    "api_key = '408B5D35-F2E2-413A-9314-AA5608C2F414'\n",
    "api_secret = '4be645e49267377176c30aa159b64ba91da72350fd0f82fe29ece13190f8e110'\n",
    "url = 'https://api.gateio.la/api2/1/private/feelist'\n",
    "\n",
    "# Função para criar a assinatura HMAC\n",
    "def generate_signature(payload, secret):\n",
    "    signature = hmac.new(secret.encode('utf-8'), payload.encode('utf-8'), hashlib.sha512).hexdigest()\n",
    "    return signature\n",
    "\n",
    "# Função para enviar a solicitação à API\n",
    "def make_request(api_key, api_secret, url, params=None):\n",
    "    if params is None:\n",
    "        params = {}\n",
    "\n",
    "    # Adiciona informações obrigatórias à solicitação\n",
    "    params['api_key'] = api_key\n",
    "    params['timestamp'] = int(time.time() * 1000)  # Tempo atual em milissegundos\n",
    "    query_string = '&'.join([f\"{key}={params[key]}\" for key in sorted(params.keys())])\n",
    "    signature = generate_signature(query_string, api_secret)\n",
    "\n",
    "    headers = {\n",
    "        'KEY': api_key,\n",
    "        'SIGN': signature\n",
    "    }\n",
    "\n",
    "\n",
    "    response = requests.post(url, headers=headers, data=params)\n",
    "\n",
    "\n",
    "    return response.json()\n",
    "\n",
    "# Exemplo de uso\n",
    "response = make_request(api_key, api_secret, url)\n",
    "\n",
    "\n",
    "import pandas as pd\n",
    "import json\n",
    "\n",
    "df = pd.DataFrame.from_dict(response, orient='index')\n",
    "\n",
    "# Salve o DataFrame como um arquivo JSON\n",
    "#df.to_json('gateio_fee_list.json', orient='index', indent=4)\n",
    "\n",
    "# Salva o DataFrame em um arquivo CSV\n",
    "\n",
    "df.to_csv('.gateio_fee_list.csv', index=False)\n",
    "df.to_csv('./Dados_cripto/API/Withdraw/gateio_fee_list.csv', index=False)\n"
   ]
  },
  {
   "cell_type": "markdown",
   "metadata": {},
   "source": [
    "## Baixar informações sobre Withdraw Mexc \n",
    " https://mexcdevelop.github.io/apidocs/spot_v3_en/#query-the-currency-information\n"
   ]
  },
  {
   "cell_type": "code",
   "execution_count": 4,
   "metadata": {},
   "outputs": [
    {
     "name": "stdout",
     "output_type": "stream",
     "text": [
      "Data has been successfully saved to ./Dados_cripto/API/Withdraw/mexc_data.csv\n"
     ]
    }
   ],
   "source": [
    "import requests\n",
    "import csv\n",
    "import time\n",
    "import hashlib\n",
    "import hmac\n",
    "\n",
    "# API endpoint\n",
    "base_url = \"https://api.mexc.com\"\n",
    "endpoint = \"/api/v3/capital/config/getall\"\n",
    "url = f\"{base_url}{endpoint}\"\n",
    "\n",
    "# API credentials\n",
    "api_key = \"mx0vglIafxXbQpmkET\"\n",
    "secret_key = \"c3f08d9cde7841b393417986a3f3892f\"\n",
    "\n",
    "# Request parameters\n",
    "params = {}\n",
    "\n",
    "# Request headers\n",
    "headers = {\n",
    "    \"X-MEXC-APIKEY\": api_key,\n",
    "    \"Content-Type\": \"application/json\",\n",
    "}\n",
    "\n",
    "# Add timestamp to parameters\n",
    "params[\"timestamp\"] = int(time.time() * 1000)\n",
    "\n",
    "# Calculate signature\n",
    "total_params = \"&\".join([f\"{key}={params[key]}\" for key in sorted(params)])\n",
    "signature = hmac.new(secret_key.encode(), total_params.encode(), hashlib.sha256).hexdigest()\n",
    "params[\"signature\"] = signature\n",
    "\n",
    "# Send GET request\n",
    "response = requests.get(url, headers=headers, params=params)\n",
    "\n",
    "# Check if the request was successful (status code 200)\n",
    "if response.status_code == 200:\n",
    "    # Convert the response to JSON format\n",
    "    data = response.json()\n",
    "\n",
    "    # Define CSV file path\n",
    "    csv_file_path = \"./Dados_cripto/API/Withdraw/mexc_data.csv\"\n",
    "\n",
    "    # Write data to CSV file\n",
    "    with open(csv_file_path, mode=\"w\", newline=\"\") as file:\n",
    "        writer = csv.writer(file)\n",
    "        # Write header\n",
    "        writer.writerow(data[0].keys())\n",
    "        # Write data\n",
    "        for item in data:\n",
    "            writer.writerow(item.values())\n",
    "\n",
    "    print(f\"Data has been successfully saved to {csv_file_path}\")\n",
    "else:\n",
    "    print(f\"Error: {response.status_code} - {response.text}\")\n"
   ]
  }
 ],
 "metadata": {
  "kernelspec": {
   "display_name": "embaixadores_diope",
   "language": "python",
   "name": "python3"
  },
  "language_info": {
   "codemirror_mode": {
    "name": "ipython",
    "version": 3
   },
   "file_extension": ".py",
   "mimetype": "text/x-python",
   "name": "python",
   "nbconvert_exporter": "python",
   "pygments_lexer": "ipython3",
   "version": "3.10.11"
  }
 },
 "nbformat": 4,
 "nbformat_minor": 2
}
